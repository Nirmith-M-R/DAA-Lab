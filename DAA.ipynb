{
 "cells": [
  {
   "cell_type": "markdown",
   "metadata": {},
   "source": [
    "# Merge Sort"
   ]
  },
  {
   "cell_type": "code",
   "execution_count": 13,
   "metadata": {},
   "outputs": [
    {
     "name": "stdout",
     "output_type": "stream",
     "text": [
      "[2, 4, 5, 6, 9]\n"
     ]
    }
   ],
   "source": [
    "def mergeSort(arr):\n",
    "    if len(arr)<=1:\n",
    "        return arr\n",
    "    \n",
    "    mid = len(arr)//2\n",
    "\n",
    "    left = mergeSort(arr[:mid])\n",
    "    right = mergeSort(arr[mid:])\n",
    "    \n",
    "\n",
    "    return merge(left, right)\n",
    "\n",
    "def merge(left, right):\n",
    "    res = []\n",
    "    i=j=0\n",
    "\n",
    "    while i<len(left) and j<len(right):\n",
    "        if left[i]<right[j]:\n",
    "            res.append(left[i])\n",
    "            i+=1\n",
    "        else:\n",
    "            res.append(right[j])\n",
    "            j+=1\n",
    "    \n",
    "    res.extend(left[i:])\n",
    "    res.extend(right[j:])\n",
    "    \n",
    "    return res\n",
    "\n",
    "arr = [5,4,6,2,9]\n",
    "print(mergeSort(arr))"
   ]
  },
  {
   "cell_type": "markdown",
   "metadata": {},
   "source": [
    "# DFS"
   ]
  },
  {
   "cell_type": "code",
   "execution_count": 18,
   "metadata": {},
   "outputs": [
    {
     "name": "stdout",
     "output_type": "stream",
     "text": [
      "0\n",
      "1\n",
      "2\n"
     ]
    }
   ],
   "source": [
    "def dfs(i):\n",
    "    visited[i]=1\n",
    "    print(i)\n",
    "    for j in G[i]:\n",
    "        if visited[j]!=1:\n",
    "            dfs(j)\n",
    "\n",
    "G = {}\n",
    "n = int(input(\"Enter number of vertices: \"))\n",
    "visited = [0]*n\n",
    "for i in range(n):\n",
    "    G[i]=[]\n",
    "\n",
    "while 1:\n",
    "    c = int(input(\"1.Add Edge\\n-1.End\"))\n",
    "    if c==-1:\n",
    "        break\n",
    "    u,v = map(int, input(\"Enter edge (u,v): \").split())\n",
    "    G[u].append(v)\n",
    "    G[v].append(u)\n",
    "\n",
    "i = int(input(\"Enter starting vertex :\"))\n",
    "if i<n:\n",
    "    dfs(i)"
   ]
  },
  {
   "cell_type": "markdown",
   "metadata": {},
   "source": [
    "# BFS"
   ]
  },
  {
   "cell_type": "code",
   "execution_count": 23,
   "metadata": {},
   "outputs": [
    {
     "name": "stdout",
     "output_type": "stream",
     "text": [
      "0\n",
      "1\n",
      "2\n"
     ]
    }
   ],
   "source": [
    "def bfs(i):\n",
    "    q = []\n",
    "    q.append(i)\n",
    "    \n",
    "\n",
    "    while q:\n",
    "        n = q.pop(0)\n",
    "        if not visited[n]:\n",
    "            visited[n]=1\n",
    "            print(n)\n",
    "            for j in G[n]:\n",
    "                if not visited[j]:\n",
    "                    q.append(j)\n",
    "\n",
    "G = {}\n",
    "n = int(input(\"Enter number of vertices: \"))\n",
    "visited = [0]*n\n",
    "for i in range(n):\n",
    "    G[i]=[]\n",
    "\n",
    "while 1:\n",
    "    c = int(input(\"1.Add Edge\\n-1.End\"))\n",
    "    if c==-1:\n",
    "        break\n",
    "    u,v = map(int, input(\"Enter edge (u,v): \").split())\n",
    "    G[u].append(v)\n",
    "    G[v].append(u)\n",
    "\n",
    "i = int(input(\"Enter starting vertex :\"))\n",
    "if i<n:\n",
    "    bfs(i)"
   ]
  },
  {
   "cell_type": "markdown",
   "metadata": {},
   "source": [
    "# QuickSort"
   ]
  },
  {
   "cell_type": "code",
   "execution_count": 35,
   "metadata": {},
   "outputs": [
    {
     "name": "stdout",
     "output_type": "stream",
     "text": [
      "[3, 5, 6, 8, 9, 10, 12, 15, 16]\n"
     ]
    }
   ],
   "source": [
    "def partition(l,h):\n",
    "    i=l\n",
    "    j=h\n",
    "    pivot = arr[l]\n",
    "    while(i<j):\n",
    "        while arr[i]<=pivot and i<len(arr):\n",
    "            i+=1\n",
    "        while arr[j]>pivot and j>=0 :\n",
    "            j-=1\n",
    "        if(i<j):\n",
    "            arr[i], arr[j] = arr[j], arr[i]\n",
    "    arr[l], arr[j] = arr[j], arr[l]\n",
    "    return j\n",
    "\n",
    "def quickSort(l,h): \n",
    "    if l<h:\n",
    "        pi = partition(l,h)\n",
    "        quickSort(l,pi)\n",
    "        quickSort(pi+1,h)\n",
    "\n",
    "arr = [10,16,8,12,15,6,3,9,5]\n",
    "quickSort(0,len(arr)-1)\n",
    "print(arr)"
   ]
  },
  {
   "cell_type": "markdown",
   "metadata": {},
   "source": [
    "# Inversion Count"
   ]
  },
  {
   "cell_type": "code",
   "execution_count": 49,
   "metadata": {},
   "outputs": [
    {
     "name": "stdout",
     "output_type": "stream",
     "text": [
      "Sorted array: [5, 6, 7, 11, 12, 13]\n",
      "Number of inversions: 10\n"
     ]
    }
   ],
   "source": [
    "#  Time Complexity: O(n log n) where n is the number of elements in the input array.\n",
    "\n",
    "def merge_sort(arr):\n",
    "    if len(arr) <= 1:\n",
    "        return arr, 0\n",
    "    \n",
    "    mid = len(arr) // 2\n",
    "    left_half = arr[:mid]\n",
    "    right_half = arr[mid:]\n",
    "    \n",
    "    left_half, left_inversions = merge_sort(left_half)\n",
    "    right_half, right_inversions = merge_sort(right_half)\n",
    "    \n",
    "    merged, merge_inversions = merge(left_half, right_half)\n",
    "    total_inversions = left_inversions + right_inversions + merge_inversions\n",
    "    \n",
    "    return merged, total_inversions\n",
    "\n",
    "def merge(left, right):\n",
    "    merged = []\n",
    "    left_index = 0\n",
    "    right_index = 0\n",
    "    inversions = 0  \n",
    "\n",
    "    while left_index < len(left) and right_index < len(right):\n",
    "        if left[left_index] <= right[right_index]:\n",
    "            merged.append(left[left_index])\n",
    "            left_index += 1\n",
    "        else:\n",
    "            merged.append(right[right_index])\n",
    "            right_index += 1\n",
    "            inversions += len(left) - left_index  \n",
    "    \n",
    "    merged.extend(left[left_index:])\n",
    "    merged.extend(right[right_index:])\n",
    "    \n",
    "    return merged, inversions\n",
    "\n",
    "\n",
    "arr = [12, 11, 13, 5, 6, 7]\n",
    "sorted_arr, inversions = merge_sort(arr)\n",
    "print(\"Sorted array:\", sorted_arr)\n",
    "print(\"Number of inversions:\", inversions)"
   ]
  },
  {
   "cell_type": "markdown",
   "metadata": {},
   "source": [
    "# Prims Alg"
   ]
  },
  {
   "cell_type": "code",
   "execution_count": 67,
   "metadata": {},
   "outputs": [
    {
     "name": "stdout",
     "output_type": "stream",
     "text": [
      "Minimum Spanning Tree:\n",
      "(0, 0)\n",
      "(1, 2)\n",
      "(2, 3)\n",
      "(4, 5)\n",
      "(3, 6)\n"
     ]
    }
   ],
   "source": [
    "import sys\n",
    "def prim(graph , n):\n",
    "    keys = [sys.maxsize]*n\n",
    "    mst = []\n",
    "    keys[0] = 0\n",
    "    visited = [False]*n\n",
    "    for i in range(n):\n",
    "        u = min((i for i in range(n) if not visited[i]),key=lambda x:keys[x])\n",
    "        visited[u] = True\n",
    "        if keys[u] != sys.maxsize:\n",
    "            mst.append((u , keys[u]))\n",
    "        for v in range(n):\n",
    "            if graph[u][v] > 0 and not visited[v] and graph[u][v] < keys[v] :\n",
    "                keys[v] = graph[u][v]\n",
    "    return mst\n",
    "graph = [\n",
    "    [0, 2, 0, 6, 0],\n",
    "    [2, 0, 3, 8, 5],\n",
    "    [0, 3, 0, 0, 7],\n",
    "    [6, 8, 0, 0, 9],\n",
    "    [0, 5, 7, 9, 0]\n",
    "]\n",
    "\n",
    "min_spanning_tree = prim(graph , 5)\n",
    "print(\"Minimum Spanning Tree:\")\n",
    "for edge in min_spanning_tree:\n",
    "    print(edge)"
   ]
  },
  {
   "cell_type": "markdown",
   "metadata": {},
   "source": [
    "# Gale Shapely"
   ]
  },
  {
   "cell_type": "code",
   "execution_count": 1,
   "metadata": {},
   "outputs": [
    {
     "name": "stdout",
     "output_type": "stream",
     "text": [
      "Matching result (woman -> man): [1, 0, 2]\n"
     ]
    }
   ],
   "source": [
    "def gale_shapley(mpref, wpref):\n",
    "    n = len(mpref)\n",
    "    wpartner = [-1] * n\n",
    "    mnextpref = [0] * n\n",
    "    freem = list(range(n))\n",
    "    while freem:\n",
    "        m = freem.pop(0)\n",
    "        w = mpref[m][mnextpref[m]]\n",
    "        mnextpref[m] += 1\n",
    "        if wpartner[w] == -1:\n",
    "            wpartner[w] = m\n",
    "        else:\n",
    "            curpartner = wpartner[w]\n",
    "            if wpref[w].index(m) < wpref[w].index(curpartner):\n",
    "                wpartner[w] = m\n",
    "                freem.append(curpartner)\n",
    "    return wpartner\n",
    "men_prefs = [\n",
    "    [1, 0, 2],\n",
    "    [0, 1, 2],\n",
    "    [2, 0, 1]\n",
    "]\n",
    "women_prefs = [\n",
    "    [1, 0, 2],\n",
    "    [2, 1, 0],\n",
    "    [0, 2, 1]\n",
    "]\n",
    "\n",
    "matches = gale_shapley(men_prefs, women_prefs)\n",
    "print(\"Matching result (woman -> man):\", matches)"
   ]
  },
  {
   "cell_type": "code",
   "execution_count": null,
   "metadata": {},
   "outputs": [],
   "source": []
  }
 ],
 "metadata": {
  "kernelspec": {
   "display_name": "base",
   "language": "python",
   "name": "python3"
  },
  "language_info": {
   "codemirror_mode": {
    "name": "ipython",
    "version": 3
   },
   "file_extension": ".py",
   "mimetype": "text/x-python",
   "name": "python",
   "nbconvert_exporter": "python",
   "pygments_lexer": "ipython3",
   "version": "3.11.7"
  }
 },
 "nbformat": 4,
 "nbformat_minor": 2
}
